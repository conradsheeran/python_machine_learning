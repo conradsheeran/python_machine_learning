{
 "cells": [
  {
   "cell_type": "markdown",
   "id": "ec70d971-ef4a-4f1b-b547-8800c454e3cc",
   "metadata": {},
   "source": [
    "# Python 机器学习"
   ]
  },
  {
   "cell_type": "markdown",
   "id": "06857264-c961-4b80-acbe-150166077fee",
   "metadata": {},
   "source": [
    "## 1. Numpy 入门\n",
    "\n",
    "### 1.1 数组基础\n",
    "\n",
    "- Numpy 相较于 Python 列表，计算速度大大增加，代码也更加简洁，可以明显看出在进行大量数据计算时 Numpy 具有明显优势："
   ]
  },
  {
   "cell_type": "code",
   "execution_count": 1,
   "id": "0186ff8d-50f6-4fcb-b359-3ba74f6afbf6",
   "metadata": {},
   "outputs": [
    {
     "name": "stdout",
     "output_type": "stream",
     "text": [
      "5.68 μs ± 27.9 ns per loop (mean ± std. dev. of 7 runs, 100,000 loops each)\n"
     ]
    }
   ],
   "source": [
    "%%timeit\n",
    "\n",
    "# 使用传统方式计算\n",
    "list_a = [13, 2, 3, 12, 45, 78, 22, 33, 55, 88, 13, 23, 33, 12, 45, 78, 22, 33, 55, 88]\n",
    "list_b = [43, 5, 6, 12, 24, 15, 12, 16, 85, 23, 43, 53, 63, 12, 24, 15, 12, 16, 85, 23]\n",
    "list_c = []\n",
    "\n",
    "for i in range(len(list_a)):\n",
    "    list_c.append(list_a[i] ** list_b[i])"
   ]
  },
  {
   "cell_type": "code",
   "execution_count": 2,
   "id": "8894b657-320c-402b-babb-33a48e6d2d9a",
   "metadata": {},
   "outputs": [
    {
     "name": "stdout",
     "output_type": "stream",
     "text": [
      "5.46 μs ± 3.02 ns per loop (mean ± std. dev. of 7 runs, 100,000 loops each)\n"
     ]
    }
   ],
   "source": [
    "%%timeit\n",
    "\n",
    "# 使用 Numpy 数组计算\n",
    "import numpy as np\n",
    "\n",
    "array_a = np.array([13, 2, 3, 12, 45, 78, 22, 33, 55, 88, 13, 23, 33, 12, 45, 78, 22, 33, 55, 88])\n",
    "array_b = np.array([43, 5, 6, 12, 24, 15, 12, 16, 85, 23, 43, 53, 63, 12, 24, 15, 12, 16, 85, 23])\n",
    "array_c = array_a ** array_b"
   ]
  },
  {
   "cell_type": "markdown",
   "id": "a91d3724-6996-47e4-919a-4a067987028e",
   "metadata": {},
   "source": [
    "### 1.1.1 创建一个 Numpy 数组"
   ]
  },
  {
   "cell_type": "markdown",
   "id": "295e1bff-a560-4cd3-b283-55dd82d76731",
   "metadata": {},
   "source": [
    "1. 从 Python 元组或列表创建，使用 '''np.array()''' 函数进行创建："
   ]
  },
  {
   "cell_type": "code",
   "execution_count": 3,
   "id": "6182a9b0-cfe9-4427-a5f5-57ef2d8ecb42",
   "metadata": {},
   "outputs": [
    {
     "name": "stdout",
     "output_type": "stream",
     "text": [
      "一维数组:\n",
      "\n",
      "[1 2 3 4 5]\n",
      "\n",
      "二维数组:\n",
      "\n",
      "[[1 2 3]\n",
      " [4 5 6]]\n"
     ]
    }
   ],
   "source": [
    "import numpy as np\n",
    "\n",
    "# 创建一维数组\n",
    "list_data = [1, 2, 3, 4, 5]\n",
    "array_1d = np.array(list_data)\n",
    "\n",
    "print(\"一维数组:\\n\")\n",
    "print(array_1d)\n",
    "\n",
    "# 创建二维数组\n",
    "list_2d_data = [[1, 2, 3], [4, 5, 6]]\n",
    "array_2d = np.array(list_2d_data)\n",
    "\n",
    "print(\"\\n二维数组:\\n\")\n",
    "print(array_2d)"
   ]
  },
  {
   "cell_type": "markdown",
   "id": "c36fc54c",
   "metadata": {},
   "source": [
    "2. 创建特殊数组"
   ]
  },
  {
   "cell_type": "code",
   "execution_count": 4,
   "id": "eebfe415",
   "metadata": {},
   "outputs": [
    {
     "name": "stdout",
     "output_type": "stream",
     "text": [
      "[[0. 0. 0.]\n",
      " [0. 0. 0.]\n",
      " [0. 0. 0.]]\n",
      "[[1. 1. 1. 1.]\n",
      " [1. 1. 1. 1.]]\n",
      "[0.78325939 0.32183369 0.69618115 0.75811711 0.33290648]\n"
     ]
    }
   ],
   "source": [
    "zeros = np.zeros((3, 3))        # 创建全零数组\n",
    "ones = np.ones((2, 4))          # 创建全一数组\n",
    "rand = np.random.rand(5)        # 随机数\n",
    "\n",
    "print(zeros)\n",
    "print(ones)\n",
    "print(rand)"
   ]
  },
  {
   "cell_type": "markdown",
   "id": "9c214b71",
   "metadata": {},
   "source": [
    "### 1.1.2 数组操作和数组运算\n",
    "\n",
    "1. 数组属性"
   ]
  },
  {
   "cell_type": "code",
   "execution_count": 5,
   "id": "3de3e8f9",
   "metadata": {},
   "outputs": [
    {
     "name": "stdout",
     "output_type": "stream",
     "text": [
      "(3, 3)\n",
      "2\n",
      "9\n",
      "float64\n"
     ]
    }
   ],
   "source": [
    "zeros = np.zeros((3, 3))\n",
    "print(zeros.shape)  # 输出数组的形状\n",
    "print(zeros.ndim)   # 输出数组的维度\n",
    "print(zeros.size)   # 输出数组的元素总数\n",
    "print(zeros.dtype)  # 输出数组的数据类型"
   ]
  },
  {
   "cell_type": "markdown",
   "id": "0fdfd370",
   "metadata": {},
   "source": [
    "2. 索引 & 切片和运算\n",
    "\n",
    "- 数组运算有广播机制，如果矩阵形状不匹配，会进行拉伸对齐"
   ]
  },
  {
   "cell_type": "code",
   "execution_count": 6,
   "id": "b043ad28",
   "metadata": {},
   "outputs": [
    {
     "name": "stdout",
     "output_type": "stream",
     "text": [
      "[[2 3]\n",
      " [7 8]]\n",
      "\n",
      "\n",
      "[[6 7]]\n",
      "\n",
      "\n",
      "[[ 2  4  6  8 10]\n",
      " [ 7  9 11 13 15]]\n",
      "\n",
      "\n",
      "[[ 1  4  9 16 25]\n",
      " [ 6 14 24 36 50]]\n",
      "\n",
      "\n",
      "[[13 16 19 22 25]]\n",
      "\n",
      "\n",
      "[[ 2  4  6  8 10]]\n",
      "\n",
      "\n",
      "[15]\n",
      "\n",
      "\n",
      "[1. 2. 3. 4. 5.]\n",
      "\n",
      "\n",
      "[1 2 3 4 5]\n"
     ]
    }
   ],
   "source": [
    "arr1 = np.array([[1, 2, 3, 4, 5]])\n",
    "arr2 = np.array([[1, 2, 3, 4, 5], \n",
    "                 [6, 7, 8, 9, 10]])\n",
    "\n",
    "# 范围切片: [起始:结束:步长]\n",
    "print(arr2[:, 1:3])    # 输出第二列和第三列\n",
    "print(\"\\n\")\n",
    "print(arr2[1:3, 0:2])  # 输出第二行和第三行的前两列\n",
    "print(\"\\n\")\n",
    "\n",
    "print(arr1 + arr2)                         # 数组加法\n",
    "print(\"\\n\")\n",
    "print(arr1 * arr2)                         # 点乘\n",
    "print(\"\\n\")\n",
    "print(np.dot(arr1[:, :2], arr2))           # 叉乘\n",
    "print(\"\\n\")\n",
    "print(arr1 * 2)                            # 标量乘法\n",
    "print(\"\\n\")\n",
    "print(np.sum(arr1, axis=1))                # 和 (axis=1表示按行求和)\n",
    "print(\"\\n\")\n",
    "print(np.mean(arr1, axis=0))               # 平均值 (axis=0表示按列求平均)\n",
    "print(\"\\n\")\n",
    "print(np.max(arr1, axis=0))                # 最大值"
   ]
  },
  {
   "cell_type": "markdown",
   "id": "a77a1f8b",
   "metadata": {},
   "source": [
    "3. 形状操作"
   ]
  },
  {
   "cell_type": "code",
   "execution_count": 7,
   "id": "2b349937",
   "metadata": {},
   "outputs": [
    {
     "name": "stdout",
     "output_type": "stream",
     "text": [
      "[[ 1  6]\n",
      " [ 2  7]\n",
      " [ 3  8]\n",
      " [ 4  9]\n",
      " [ 5 10]]\n",
      "\n",
      "\n",
      "[ 1  2  3  4  5  6  7  8  9 10]\n",
      "\n",
      "\n",
      "[[ 1  2]\n",
      " [ 3  4]\n",
      " [ 5  6]\n",
      " [ 7  8]\n",
      " [ 9 10]]\n"
     ]
    }
   ],
   "source": [
    "arr = np.array([[1, 2, 3, 4, 5], \n",
    "                 [6, 7, 8, 9, 10]])\n",
    "\n",
    "print(arr.T)              # 转置数组\n",
    "print(\"\\n\")\n",
    "print(arr.flatten())      # 展平数组\n",
    "print(\"\\n\")\n",
    "print(arr.reshape(5, 2))  # 改变数组形状"
   ]
  },
  {
   "cell_type": "markdown",
   "id": "80fdff38",
   "metadata": {},
   "source": [
    "4. 数组拼接"
   ]
  },
  {
   "cell_type": "code",
   "execution_count": 8,
   "id": "ee9ff42b",
   "metadata": {},
   "outputs": [
    {
     "name": "stdout",
     "output_type": "stream",
     "text": [
      "[[ 1  2  3  4  5]\n",
      " [ 1  2  3  4  5]\n",
      " [ 6  7  8  9 10]]\n",
      "\n",
      "\n",
      "[[ 1  2  3  4  5  1  2  3  4  5]\n",
      " [ 6  7  8  9 10  6  7  8  9 10]]\n"
     ]
    }
   ],
   "source": [
    "arr1 = np.array([[1, 2, 3, 4, 5]])\n",
    "arr2 = np.array([[1, 2, 3, 4, 5], \n",
    "                 [6, 7, 8, 9, 10]])\n",
    "\n",
    "print(np.vstack((arr1, arr2)))  # 垂直拼接\n",
    "print(\"\\n\")\n",
    "print(np.hstack((arr2, arr2)))  # 水平拼接"
   ]
  },
  {
   "cell_type": "markdown",
   "id": "342c5d16",
   "metadata": {},
   "source": [
    "## 1.2 Numpy 的应用\n",
    "\n",
    "### 1.2.1 数据预处理"
   ]
  },
  {
   "cell_type": "code",
   "execution_count": null,
   "id": "b23d714e",
   "metadata": {},
   "outputs": [],
   "source": []
  }
 ],
 "metadata": {
  "kernelspec": {
   "display_name": "Python 3 (ipykernel)",
   "language": "python",
   "name": "python3"
  },
  "language_info": {
   "codemirror_mode": {
    "name": "ipython",
    "version": 3
   },
   "file_extension": ".py",
   "mimetype": "text/x-python",
   "name": "python",
   "nbconvert_exporter": "python",
   "pygments_lexer": "ipython3",
   "version": "3.13.5"
  }
 },
 "nbformat": 4,
 "nbformat_minor": 5
}
