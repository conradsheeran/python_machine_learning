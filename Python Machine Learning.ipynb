{
 "cells": [
  {
   "cell_type": "markdown",
   "id": "ec70d971-ef4a-4f1b-b547-8800c454e3cc",
   "metadata": {},
   "source": [
    "# Python 机器学习"
   ]
  },
  {
   "cell_type": "markdown",
   "id": "06857264-c961-4b80-acbe-150166077fee",
   "metadata": {},
   "source": [
    "## 1. Numpy 入门\n",
    "\n",
    "### 1.1 数组基础\n",
    "\n",
    "- Numpy 相较于 Python 列表，计算速度大大增加，代码也更加简洁，可以明显看出在进行大量数据计算时 Numpy 具有明显优势："
   ]
  },
  {
   "cell_type": "code",
   "execution_count": 1,
   "id": "0186ff8d-50f6-4fcb-b359-3ba74f6afbf6",
   "metadata": {},
   "outputs": [
    {
     "name": "stdout",
     "output_type": "stream",
     "text": [
      "5.79 μs ± 191 ns per loop (mean ± std. dev. of 7 runs, 100,000 loops each)\n"
     ]
    }
   ],
   "source": [
    "%%timeit\n",
    "\n",
    "# 使用传统方式计算\n",
    "list_a = [1, 2, 3, 123, 456, 789, 222, 333, 555, 888]\n",
    "list_b = [4, 5, 6, 123, 241, 159, 124, 168, 854, 235]\n",
    "list_c = []\n",
    "\n",
    "for i in range(len(list_a)):\n",
    "    list_c.append(list_a[i] + list_b[i])"
   ]
  },
  {
   "cell_type": "code",
   "execution_count": 2,
   "id": "8894b657-320c-402b-babb-33a48e6d2d9a",
   "metadata": {},
   "outputs": [
    {
     "name": "stdout",
     "output_type": "stream",
     "text": [
      "4.73 μs ± 273 ns per loop (mean ± std. dev. of 7 runs, 100,000 loops each)\n"
     ]
    }
   ],
   "source": [
    "%%timeit\n",
    "\n",
    "# 使用 Numpy 数组计算\n",
    "import numpy as np\n",
    "\n",
    "array_a = np.array([1, 2, 3, 123, 456, 789, 222, 333, 555, 888])\n",
    "array_b = np.array([1, 2, 3, 123, 456, 789, 222, 333, 555, 888])\n",
    "array_c = array_a + array_b"
   ]
  },
  {
   "cell_type": "markdown",
   "id": "a91d3724-6996-47e4-919a-4a067987028e",
   "metadata": {},
   "source": [
    "### 1.1.1 创建一个 Numpy 数组"
   ]
  },
  {
   "cell_type": "markdown",
   "id": "295e1bff-a560-4cd3-b283-55dd82d76731",
   "metadata": {},
   "source": [
    "1. 从 Python 元组或列表创建，使用 '''np.array()''' 函数进行创建："
   ]
  },
  {
   "cell_type": "code",
   "execution_count": 5,
   "id": "6182a9b0-cfe9-4427-a5f5-57ef2d8ecb42",
   "metadata": {},
   "outputs": [
    {
     "name": "stdout",
     "output_type": "stream",
     "text": [
      "一维数组:\n",
      "\n",
      "[1 2 3 4 5]\n",
      "\n",
      "二维数组:\n",
      "\n",
      "[[1 2 3]\n",
      " [4 5 6]]\n"
     ]
    }
   ],
   "source": [
    "import numpy as np\n",
    "\n",
    "# 创建一维数组\n",
    "list_data = [1, 2, 3, 4, 5]\n",
    "array_1d = np.array(list_data)\n",
    "\n",
    "print(\"一维数组:\\n\")\n",
    "print(array_1d)\n",
    "\n",
    "# 创建二维数组\n",
    "list_2d_data = [[1, 2, 3], [4, 5, 6]]\n",
    "array_2d = np.array(list_2d_data)\n",
    "\n",
    "print(\"\\n二维数组:\\n\")\n",
    "print(array_2d)"
   ]
  }
 ],
 "metadata": {
  "kernelspec": {
   "display_name": "Python 3 (ipykernel)",
   "language": "python",
   "name": "python3"
  },
  "language_info": {
   "codemirror_mode": {
    "name": "ipython",
    "version": 3
   },
   "file_extension": ".py",
   "mimetype": "text/x-python",
   "name": "python",
   "nbconvert_exporter": "python",
   "pygments_lexer": "ipython3",
   "version": "3.10.8"
  }
 },
 "nbformat": 4,
 "nbformat_minor": 5
}
